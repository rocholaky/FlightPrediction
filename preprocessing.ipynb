{
 "cells": [
  {
   "cell_type": "code",
   "execution_count": 143,
   "metadata": {},
   "outputs": [],
   "source": [
    "import pandas as pd\n",
    "import numpy as np\n",
    "import os\n",
    "import matplotlib.pyplot as plt\n",
    "import sklearn\n",
    "import seaborn as sns\n",
    "import re"
   ]
  },
  {
   "attachments": {},
   "cell_type": "markdown",
   "metadata": {},
   "source": [
    "## Flight Delay Prediction EDA: \n",
    "In order to predict the delay and cancellation of flights we will analyze the flight delay and cancellation dataset that has flight information on 2015. In order to understand better the data given about flights we will analyze first each dataset and then we will make a united analysis of the data. \n",
    "\n",
    "The EDA will be structured in the following manner: \n",
    "<style>\n",
    "  ol {\n",
    "    list-style-type: none;\n",
    "  }\n",
    "  ol li:before {\n",
    "    content: attr(value)\". \";\n",
    "  }\n",
    "</style>\n",
    "\n",
    "<ol>\n",
    "  <li>Explain the structure of the data</li>\n",
    "  <li>Analyze each table in order to understand if it has any missing values or inconsistencies.</li>\n",
    "  <li>Unite the data into one DataFrame.</li>\n",
    "  <li>\n",
    "    Explore the data in order to find some interesting insights. In this section we will try to answer some important questions:\n",
    "    <ol type=\"a\">\n",
    "      <li>How is the distribution of delayed flights and non-delayed flights?</li>\n",
    "      <li>Is there any flight route that has more delays?</li>\n",
    "      <li>How are the airlines flights distributed in the dataset?</li>\n",
    "      <li>Is there any country with more delays?</li>\n",
    "    </ol>\n",
    "  </li>\n",
    " <li>Feature Engineering</li>\n",
    " <li>Data Preparation </li>\n",
    "  <li>Training model</li>\n",
    "</ol>\n",
    "\n",
    "\n",
    "\n"
   ]
  },
  {
   "attachments": {},
   "cell_type": "markdown",
   "metadata": {},
   "source": [
    "# Loading Data: "
   ]
  },
  {
   "cell_type": "code",
   "execution_count": 144,
   "metadata": {},
   "outputs": [],
   "source": [
    "## Setting paths: \n",
    "dataBaseDir = os.path.join(\"..\",\"GeneralData\",)\n",
    "airline_path = os.path.join(dataBaseDir,  \"airlines.csv\")\n",
    "airports_path = os.path.join(dataBaseDir, \"airports.csv\")\n",
    "flights_path = os.path.join(dataBaseDir, \"flights.csv\")\n",
    "airport_identifier = os.path.join(dataBaseDir, \"L_AIRPORT_ID.csv\")"
   ]
  },
  {
   "cell_type": "code",
   "execution_count": 145,
   "metadata": {},
   "outputs": [],
   "source": [
    "# loading airline data into a data frame: \n",
    "airline_df = pd.read_csv(airline_path)"
   ]
  },
  {
   "cell_type": "code",
   "execution_count": 146,
   "metadata": {},
   "outputs": [],
   "source": [
    "# loading airport data into a data frame: \n",
    "airports_df = pd.read_csv(airports_path)"
   ]
  },
  {
   "cell_type": "code",
   "execution_count": 147,
   "metadata": {},
   "outputs": [],
   "source": [
    "# loading flight data into a data frame: \n",
    "flight_df = pd.read_csv(flights_path, low_memory=False)"
   ]
  },
  {
   "cell_type": "code",
   "execution_count": 148,
   "metadata": {},
   "outputs": [],
   "source": [
    "airport_id_df = pd.read_csv(airport_identifier)"
   ]
  },
  {
   "cell_type": "code",
   "execution_count": 149,
   "metadata": {},
   "outputs": [],
   "source": [
    "def normalize_name(name): \n",
    "    return re.sub(\"[|]|[/]|[.]\", \" \", name.lower()).replace(\"airport\", \"\").lower()\n",
    "def name_code_extractor(row): \n",
    "    code = int(row[\"Code\"].split(\",\")[0])\n",
    "    name = row[\"Code\"].split(\":\")[1][1:-1] if \":\" in row[\"Code\"] else row[\"Code\"].split(\",\")[1][1:-1]\n",
    "    key_feature = normalize_name(name)\n",
    "    return (name, code, key_feature)"
   ]
  },
  {
   "cell_type": "code",
   "execution_count": 150,
   "metadata": {},
   "outputs": [],
   "source": [
    "airport_id_df[[\"AIRPORT_NAME\", \"AIRPORT_ID\", \"AIRPORT_KEY_NAME_FEATURES\"]] = airport_id_df.apply(name_code_extractor,  axis=1, result_type=\"expand\")"
   ]
  },
  {
   "cell_type": "code",
   "execution_count": 151,
   "metadata": {},
   "outputs": [
    {
     "data": {
      "text/html": [
       "<div>\n",
       "<style scoped>\n",
       "    .dataframe tbody tr th:only-of-type {\n",
       "        vertical-align: middle;\n",
       "    }\n",
       "\n",
       "    .dataframe tbody tr th {\n",
       "        vertical-align: top;\n",
       "    }\n",
       "\n",
       "    .dataframe thead th {\n",
       "        text-align: right;\n",
       "    }\n",
       "</style>\n",
       "<table border=\"1\" class=\"dataframe\">\n",
       "  <thead>\n",
       "    <tr style=\"text-align: right;\">\n",
       "      <th></th>\n",
       "      <th>Code</th>\n",
       "      <th>Description</th>\n",
       "      <th>AIRPORT_NAME</th>\n",
       "      <th>AIRPORT_ID</th>\n",
       "      <th>AIRPORT_KEY_NAME_FEATURES</th>\n",
       "    </tr>\n",
       "  </thead>\n",
       "  <tbody>\n",
       "    <tr>\n",
       "      <th>4525</th>\n",
       "      <td>14747,\"Seattle, WA: Seattle/Tacoma International\"</td>\n",
       "      <td>NaN</td>\n",
       "      <td>Seattle/Tacoma International</td>\n",
       "      <td>14747</td>\n",
       "      <td>seattle tacoma international</td>\n",
       "    </tr>\n",
       "  </tbody>\n",
       "</table>\n",
       "</div>"
      ],
      "text/plain": [
       "                                                   Code  Description  \\\n",
       "4525  14747,\"Seattle, WA: Seattle/Tacoma International\"          NaN   \n",
       "\n",
       "                      AIRPORT_NAME  AIRPORT_ID     AIRPORT_KEY_NAME_FEATURES  \n",
       "4525  Seattle/Tacoma International       14747  seattle tacoma international  "
      ]
     },
     "execution_count": 151,
     "metadata": {},
     "output_type": "execute_result"
    }
   ],
   "source": [
    "airport_id_df[airport_id_df[\"AIRPORT_ID\"]==14747]"
   ]
  },
  {
   "cell_type": "code",
   "execution_count": 152,
   "metadata": {},
   "outputs": [
    {
     "name": "stdout",
     "output_type": "stream",
     "text": [
      "origin len: 306, destination len: 307\n"
     ]
    }
   ],
   "source": [
    "origin_not_labeled_airports = set(pd.to_numeric(flight_df[\"ORIGIN_AIRPORT\"], errors='coerce').dropna())\n",
    "destination_not_labeled_airports = set(pd.to_numeric(flight_df[\"DESTINATION_AIRPORT\"], errors='coerce').dropna())\n",
    "print(f\"origin len: {len(origin_not_labeled_airports)}, destination len: {len(destination_not_labeled_airports)}\")"
   ]
  },
  {
   "cell_type": "code",
   "execution_count": 153,
   "metadata": {},
   "outputs": [
    {
     "name": "stdout",
     "output_type": "stream",
     "text": [
      "united_airport: 307, intersection: 306\n"
     ]
    }
   ],
   "source": [
    "united_non_labeled_airports = origin_not_labeled_airports.union(destination_not_labeled_airports)\n",
    "print(f\"united_airport: {len(united_non_labeled_airports)}, intersection: {len(origin_not_labeled_airports.intersection(destination_not_labeled_airports))}\")"
   ]
  },
  {
   "cell_type": "code",
   "execution_count": 154,
   "metadata": {},
   "outputs": [],
   "source": [
    "from fuzzywuzzy import fuzz\n",
    "from fuzzywuzzy import process\n",
    "\n",
    "def find_airport_best_match(name):\n",
    "         return process.extractOne(name, airports_df.AIRPORT.tolist())[0]\n"
   ]
  },
  {
   "cell_type": "code",
   "execution_count": 155,
   "metadata": {},
   "outputs": [],
   "source": [
    "airport_id_df[\"BEST_MATCH\"] = np.nan"
   ]
  },
  {
   "cell_type": "code",
   "execution_count": 156,
   "metadata": {},
   "outputs": [],
   "source": [
    "airport_intiials = airport_id_df[airport_id_df[\"AIRPORT_ID\"].isin(united_non_labeled_airports)][\"AIRPORT_NAME\"].apply(find_airport_best_match)\n"
   ]
  },
  {
   "cell_type": "code",
   "execution_count": 157,
   "metadata": {},
   "outputs": [],
   "source": [
    "airport_id_df[\"BEST_MATCH\"] = airport_intiials"
   ]
  },
  {
   "cell_type": "code",
   "execution_count": 158,
   "metadata": {},
   "outputs": [],
   "source": [
    "flight_df[\"TRACKED_ORIGIN_LABELS\"] = pd.to_numeric(flight_df[\"ORIGIN_AIRPORT\"], errors='coerce')\n",
    "flight_df[\"TRACKED_DESTINATION_LABELS\"] = pd.to_numeric(flight_df[\"DESTINATION_AIRPORT\"], errors='coerce')"
   ]
  },
  {
   "cell_type": "code",
   "execution_count": 159,
   "metadata": {},
   "outputs": [],
   "source": [
    "airport_df_with_initials = airport_id_df[airport_id_df[\"BEST_MATCH\"].notnull()].merge(airports_df[[\"IATA_CODE\", \"AIRPORT\"]], left_on=\"BEST_MATCH\", right_on=\"AIRPORT\", how=\"left\")\n"
   ]
  },
  {
   "cell_type": "code",
   "execution_count": 160,
   "metadata": {},
   "outputs": [],
   "source": [
    "flight_df=flight_df.merge(airport_df_with_initials[[\"AIRPORT_ID\", \"IATA_CODE\"]], left_on=\"TRACKED_ORIGIN_LABELS\", right_on=\"AIRPORT_ID\", how=\"left\")\n",
    "flight_df.rename(columns={\"IATA_CODE\": \"IATA_CODE_ORIGIN\", \"AIRPORT_ID\": \"AIRPORT_ID_ORIGIN\"}, inplace=True)"
   ]
  },
  {
   "cell_type": "code",
   "execution_count": 161,
   "metadata": {},
   "outputs": [],
   "source": [
    "flight_df = flight_df.merge(airport_df_with_initials[[\"AIRPORT_ID\", \"IATA_CODE\"]], left_on=\"TRACKED_DESTINATION_LABELS\", right_on=\"AIRPORT_ID\", how=\"left\")\n",
    "flight_df.rename(columns={\"IATA_CODE\": \"IATA_CODE_DESTINATION\", \"AIRPORT_ID\": \"AIRPORT_ID_DESTINATION\"}, inplace=True)"
   ]
  },
  {
   "cell_type": "code",
   "execution_count": 162,
   "metadata": {},
   "outputs": [
    {
     "data": {
      "text/html": [
       "<div>\n",
       "<style scoped>\n",
       "    .dataframe tbody tr th:only-of-type {\n",
       "        vertical-align: middle;\n",
       "    }\n",
       "\n",
       "    .dataframe tbody tr th {\n",
       "        vertical-align: top;\n",
       "    }\n",
       "\n",
       "    .dataframe thead th {\n",
       "        text-align: right;\n",
       "    }\n",
       "</style>\n",
       "<table border=\"1\" class=\"dataframe\">\n",
       "  <thead>\n",
       "    <tr style=\"text-align: right;\">\n",
       "      <th></th>\n",
       "      <th>YEAR</th>\n",
       "      <th>MONTH</th>\n",
       "      <th>DAY</th>\n",
       "      <th>DAY_OF_WEEK</th>\n",
       "      <th>AIRLINE</th>\n",
       "      <th>FLIGHT_NUMBER</th>\n",
       "      <th>TAIL_NUMBER</th>\n",
       "      <th>ORIGIN_AIRPORT</th>\n",
       "      <th>DESTINATION_AIRPORT</th>\n",
       "      <th>SCHEDULED_DEPARTURE</th>\n",
       "      <th>...</th>\n",
       "      <th>SECURITY_DELAY</th>\n",
       "      <th>AIRLINE_DELAY</th>\n",
       "      <th>LATE_AIRCRAFT_DELAY</th>\n",
       "      <th>WEATHER_DELAY</th>\n",
       "      <th>TRACKED_ORIGIN_LABELS</th>\n",
       "      <th>TRACKED_DESTINATION_LABELS</th>\n",
       "      <th>AIRPORT_ID_ORIGIN</th>\n",
       "      <th>IATA_CODE_ORIGIN</th>\n",
       "      <th>AIRPORT_ID_DESTINATION</th>\n",
       "      <th>IATA_CODE_DESTINATION</th>\n",
       "    </tr>\n",
       "  </thead>\n",
       "  <tbody>\n",
       "    <tr>\n",
       "      <th>0</th>\n",
       "      <td>2015</td>\n",
       "      <td>1</td>\n",
       "      <td>1</td>\n",
       "      <td>4</td>\n",
       "      <td>AS</td>\n",
       "      <td>98</td>\n",
       "      <td>N407AS</td>\n",
       "      <td>ANC</td>\n",
       "      <td>SEA</td>\n",
       "      <td>5</td>\n",
       "      <td>...</td>\n",
       "      <td>NaN</td>\n",
       "      <td>NaN</td>\n",
       "      <td>NaN</td>\n",
       "      <td>NaN</td>\n",
       "      <td>NaN</td>\n",
       "      <td>NaN</td>\n",
       "      <td>NaN</td>\n",
       "      <td>NaN</td>\n",
       "      <td>NaN</td>\n",
       "      <td>NaN</td>\n",
       "    </tr>\n",
       "    <tr>\n",
       "      <th>1</th>\n",
       "      <td>2015</td>\n",
       "      <td>1</td>\n",
       "      <td>1</td>\n",
       "      <td>4</td>\n",
       "      <td>AA</td>\n",
       "      <td>2336</td>\n",
       "      <td>N3KUAA</td>\n",
       "      <td>LAX</td>\n",
       "      <td>PBI</td>\n",
       "      <td>10</td>\n",
       "      <td>...</td>\n",
       "      <td>NaN</td>\n",
       "      <td>NaN</td>\n",
       "      <td>NaN</td>\n",
       "      <td>NaN</td>\n",
       "      <td>NaN</td>\n",
       "      <td>NaN</td>\n",
       "      <td>NaN</td>\n",
       "      <td>NaN</td>\n",
       "      <td>NaN</td>\n",
       "      <td>NaN</td>\n",
       "    </tr>\n",
       "    <tr>\n",
       "      <th>2</th>\n",
       "      <td>2015</td>\n",
       "      <td>1</td>\n",
       "      <td>1</td>\n",
       "      <td>4</td>\n",
       "      <td>US</td>\n",
       "      <td>840</td>\n",
       "      <td>N171US</td>\n",
       "      <td>SFO</td>\n",
       "      <td>CLT</td>\n",
       "      <td>20</td>\n",
       "      <td>...</td>\n",
       "      <td>NaN</td>\n",
       "      <td>NaN</td>\n",
       "      <td>NaN</td>\n",
       "      <td>NaN</td>\n",
       "      <td>NaN</td>\n",
       "      <td>NaN</td>\n",
       "      <td>NaN</td>\n",
       "      <td>NaN</td>\n",
       "      <td>NaN</td>\n",
       "      <td>NaN</td>\n",
       "    </tr>\n",
       "    <tr>\n",
       "      <th>3</th>\n",
       "      <td>2015</td>\n",
       "      <td>1</td>\n",
       "      <td>1</td>\n",
       "      <td>4</td>\n",
       "      <td>AA</td>\n",
       "      <td>258</td>\n",
       "      <td>N3HYAA</td>\n",
       "      <td>LAX</td>\n",
       "      <td>MIA</td>\n",
       "      <td>20</td>\n",
       "      <td>...</td>\n",
       "      <td>NaN</td>\n",
       "      <td>NaN</td>\n",
       "      <td>NaN</td>\n",
       "      <td>NaN</td>\n",
       "      <td>NaN</td>\n",
       "      <td>NaN</td>\n",
       "      <td>NaN</td>\n",
       "      <td>NaN</td>\n",
       "      <td>NaN</td>\n",
       "      <td>NaN</td>\n",
       "    </tr>\n",
       "    <tr>\n",
       "      <th>4</th>\n",
       "      <td>2015</td>\n",
       "      <td>1</td>\n",
       "      <td>1</td>\n",
       "      <td>4</td>\n",
       "      <td>AS</td>\n",
       "      <td>135</td>\n",
       "      <td>N527AS</td>\n",
       "      <td>SEA</td>\n",
       "      <td>ANC</td>\n",
       "      <td>25</td>\n",
       "      <td>...</td>\n",
       "      <td>NaN</td>\n",
       "      <td>NaN</td>\n",
       "      <td>NaN</td>\n",
       "      <td>NaN</td>\n",
       "      <td>NaN</td>\n",
       "      <td>NaN</td>\n",
       "      <td>NaN</td>\n",
       "      <td>NaN</td>\n",
       "      <td>NaN</td>\n",
       "      <td>NaN</td>\n",
       "    </tr>\n",
       "  </tbody>\n",
       "</table>\n",
       "<p>5 rows × 37 columns</p>\n",
       "</div>"
      ],
      "text/plain": [
       "   YEAR  MONTH  DAY  DAY_OF_WEEK AIRLINE  FLIGHT_NUMBER TAIL_NUMBER  \\\n",
       "0  2015      1    1            4      AS             98      N407AS   \n",
       "1  2015      1    1            4      AA           2336      N3KUAA   \n",
       "2  2015      1    1            4      US            840      N171US   \n",
       "3  2015      1    1            4      AA            258      N3HYAA   \n",
       "4  2015      1    1            4      AS            135      N527AS   \n",
       "\n",
       "  ORIGIN_AIRPORT DESTINATION_AIRPORT  SCHEDULED_DEPARTURE  ...  \\\n",
       "0            ANC                 SEA                    5  ...   \n",
       "1            LAX                 PBI                   10  ...   \n",
       "2            SFO                 CLT                   20  ...   \n",
       "3            LAX                 MIA                   20  ...   \n",
       "4            SEA                 ANC                   25  ...   \n",
       "\n",
       "   SECURITY_DELAY  AIRLINE_DELAY  LATE_AIRCRAFT_DELAY  WEATHER_DELAY  \\\n",
       "0             NaN            NaN                  NaN            NaN   \n",
       "1             NaN            NaN                  NaN            NaN   \n",
       "2             NaN            NaN                  NaN            NaN   \n",
       "3             NaN            NaN                  NaN            NaN   \n",
       "4             NaN            NaN                  NaN            NaN   \n",
       "\n",
       "   TRACKED_ORIGIN_LABELS  TRACKED_DESTINATION_LABELS  AIRPORT_ID_ORIGIN  \\\n",
       "0                    NaN                         NaN                NaN   \n",
       "1                    NaN                         NaN                NaN   \n",
       "2                    NaN                         NaN                NaN   \n",
       "3                    NaN                         NaN                NaN   \n",
       "4                    NaN                         NaN                NaN   \n",
       "\n",
       "   IATA_CODE_ORIGIN  AIRPORT_ID_DESTINATION  IATA_CODE_DESTINATION  \n",
       "0               NaN                     NaN                    NaN  \n",
       "1               NaN                     NaN                    NaN  \n",
       "2               NaN                     NaN                    NaN  \n",
       "3               NaN                     NaN                    NaN  \n",
       "4               NaN                     NaN                    NaN  \n",
       "\n",
       "[5 rows x 37 columns]"
      ]
     },
     "execution_count": 162,
     "metadata": {},
     "output_type": "execute_result"
    }
   ],
   "source": [
    "flight_df.head()"
   ]
  },
  {
   "cell_type": "code",
   "execution_count": 165,
   "metadata": {},
   "outputs": [],
   "source": [
    "flight_df.loc[pd.to_numeric(flight_df[\"ORIGIN_AIRPORT\"], errors=\"coerce\").notnull(), \"ORIGIN_AIRPORT\"] = np.nan"
   ]
  },
  {
   "cell_type": "code",
   "execution_count": 166,
   "metadata": {},
   "outputs": [],
   "source": [
    "flight_df[\"ORIGIN_AIRPORT\"] = flight_df[\"ORIGIN_AIRPORT\"].combine_first(flight_df[\"IATA_CODE_ORIGIN\"])"
   ]
  },
  {
   "cell_type": "code",
   "execution_count": 168,
   "metadata": {},
   "outputs": [],
   "source": [
    "flight_df.loc[pd.to_numeric(flight_df[\"DESTINATION_AIRPORT\"], errors=\"coerce\").notnull(), \"DESTINATION_AIRPORT\"] = np.nan\n",
    "flight_df[\"DESTINATION_AIRPORT\"] = flight_df[\"DESTINATION_AIRPORT\"].combine_first(flight_df[\"IATA_CODE_DESTINATION\"])"
   ]
  },
  {
   "attachments": {},
   "cell_type": "markdown",
   "metadata": {},
   "source": [
    "## Printing information about tables: \n",
    "### Airlines"
   ]
  },
  {
   "cell_type": "code",
   "execution_count": 110,
   "metadata": {},
   "outputs": [
    {
     "name": "stdout",
     "output_type": "stream",
     "text": [
      "<class 'pandas.core.frame.DataFrame'>\n",
      "RangeIndex: 14 entries, 0 to 13\n",
      "Data columns (total 2 columns):\n",
      " #   Column     Non-Null Count  Dtype \n",
      "---  ------     --------------  ----- \n",
      " 0   IATA_CODE  14 non-null     object\n",
      " 1   AIRLINE    14 non-null     object\n",
      "dtypes: object(2)\n",
      "memory usage: 352.0+ bytes\n"
     ]
    }
   ],
   "source": [
    "airline_df.info()"
   ]
  },
  {
   "attachments": {},
   "cell_type": "markdown",
   "metadata": {},
   "source": [
    "As we can see here there are only 14 airlines in the table and no null values.\n",
    "\n",
    "### Airport Table"
   ]
  },
  {
   "cell_type": "code",
   "execution_count": 111,
   "metadata": {},
   "outputs": [
    {
     "name": "stdout",
     "output_type": "stream",
     "text": [
      "<class 'pandas.core.frame.DataFrame'>\n",
      "RangeIndex: 322 entries, 0 to 321\n",
      "Data columns (total 7 columns):\n",
      " #   Column     Non-Null Count  Dtype  \n",
      "---  ------     --------------  -----  \n",
      " 0   IATA_CODE  322 non-null    object \n",
      " 1   AIRPORT    322 non-null    object \n",
      " 2   CITY       322 non-null    object \n",
      " 3   STATE      322 non-null    object \n",
      " 4   COUNTRY    322 non-null    object \n",
      " 5   LATITUDE   319 non-null    float64\n",
      " 6   LONGITUDE  319 non-null    float64\n",
      "dtypes: float64(2), object(5)\n",
      "memory usage: 17.7+ KB\n"
     ]
    }
   ],
   "source": [
    "airports_df.info()"
   ]
  },
  {
   "attachments": {},
   "cell_type": "markdown",
   "metadata": {},
   "source": [
    "In this case we can see 322 entries in the airport tables, where Longitude and latitude have both 3 entries missing. \n",
    "\n",
    "### Flight Table"
   ]
  },
  {
   "cell_type": "code",
   "execution_count": 112,
   "metadata": {},
   "outputs": [
    {
     "name": "stdout",
     "output_type": "stream",
     "text": [
      "<class 'pandas.core.frame.DataFrame'>\n",
      "RangeIndex: 5819079 entries, 0 to 5819078\n",
      "Data columns (total 31 columns):\n",
      " #   Column               Dtype  \n",
      "---  ------               -----  \n",
      " 0   YEAR                 int64  \n",
      " 1   MONTH                int64  \n",
      " 2   DAY                  int64  \n",
      " 3   DAY_OF_WEEK          int64  \n",
      " 4   AIRLINE              object \n",
      " 5   FLIGHT_NUMBER        int64  \n",
      " 6   TAIL_NUMBER          object \n",
      " 7   ORIGIN_AIRPORT       object \n",
      " 8   DESTINATION_AIRPORT  object \n",
      " 9   SCHEDULED_DEPARTURE  int64  \n",
      " 10  DEPARTURE_TIME       float64\n",
      " 11  DEPARTURE_DELAY      float64\n",
      " 12  TAXI_OUT             float64\n",
      " 13  WHEELS_OFF           float64\n",
      " 14  SCHEDULED_TIME       float64\n",
      " 15  ELAPSED_TIME         float64\n",
      " 16  AIR_TIME             float64\n",
      " 17  DISTANCE             int64  \n",
      " 18  WHEELS_ON            float64\n",
      " 19  TAXI_IN              float64\n",
      " 20  SCHEDULED_ARRIVAL    int64  \n",
      " 21  ARRIVAL_TIME         float64\n",
      " 22  ARRIVAL_DELAY        float64\n",
      " 23  DIVERTED             int64  \n",
      " 24  CANCELLED            int64  \n",
      " 25  CANCELLATION_REASON  object \n",
      " 26  AIR_SYSTEM_DELAY     float64\n",
      " 27  SECURITY_DELAY       float64\n",
      " 28  AIRLINE_DELAY        float64\n",
      " 29  LATE_AIRCRAFT_DELAY  float64\n",
      " 30  WEATHER_DELAY        float64\n",
      "dtypes: float64(16), int64(10), object(5)\n",
      "memory usage: 1.3+ GB\n"
     ]
    }
   ],
   "source": [
    "flight_df.info()"
   ]
  },
  {
   "attachments": {},
   "cell_type": "markdown",
   "metadata": {},
   "source": [
    "## Checking missing data on flight Table: \n",
    "In order to check the amount of data missing on the flight table, as the amount of columns and rows are much bigger we will check the percentage of data missing per column. "
   ]
  },
  {
   "cell_type": "code",
   "execution_count": 113,
   "metadata": {},
   "outputs": [],
   "source": [
    "missing_data = 100*flight_df.isna().sum(axis=0)/len(flight_df)"
   ]
  },
  {
   "attachments": {},
   "cell_type": "markdown",
   "metadata": {},
   "source": [
    "As we can see here there are some features with a high missing rate, meanwhile there are others with a bigger missing rate. In order to handle this we will drop the rows that are missing in the attributes that have less than 5% missing and in the case of highly missing data as weather_delay we will drop the entire column, as the mayority of the data does not have this attribute set.  "
   ]
  },
  {
   "cell_type": "code",
   "execution_count": 114,
   "metadata": {},
   "outputs": [],
   "source": [
    "column_to_drop = list(missing_data[missing_data>10].index)"
   ]
  },
  {
   "cell_type": "code",
   "execution_count": 115,
   "metadata": {},
   "outputs": [],
   "source": [
    "flight_df = flight_df.drop(columns=column_to_drop)"
   ]
  },
  {
   "attachments": {},
   "cell_type": "markdown",
   "metadata": {},
   "source": [
    "After dropping the data that was missing from the dataset we are going to drop the rows that do not have all the needes data. "
   ]
  },
  {
   "cell_type": "code",
   "execution_count": 116,
   "metadata": {},
   "outputs": [
    {
     "data": {
      "text/plain": [
       "YEAR                   0.000000\n",
       "MONTH                  0.000000\n",
       "DAY                    0.000000\n",
       "DAY_OF_WEEK            0.000000\n",
       "AIRLINE                0.000000\n",
       "FLIGHT_NUMBER          0.000000\n",
       "TAIL_NUMBER            0.252978\n",
       "ORIGIN_AIRPORT         0.000000\n",
       "DESTINATION_AIRPORT    0.000000\n",
       "SCHEDULED_DEPARTURE    0.000000\n",
       "DEPARTURE_TIME         1.480526\n",
       "DEPARTURE_DELAY        1.480526\n",
       "TAXI_OUT               1.530259\n",
       "WHEELS_OFF             1.530259\n",
       "SCHEDULED_TIME         0.000103\n",
       "ELAPSED_TIME           1.805629\n",
       "AIR_TIME               1.805629\n",
       "DISTANCE               0.000000\n",
       "WHEELS_ON              1.589822\n",
       "TAXI_IN                1.589822\n",
       "SCHEDULED_ARRIVAL      0.000000\n",
       "ARRIVAL_TIME           1.589822\n",
       "ARRIVAL_DELAY          1.805629\n",
       "DIVERTED               0.000000\n",
       "CANCELLED              0.000000\n",
       "dtype: float64"
      ]
     },
     "execution_count": 116,
     "metadata": {},
     "output_type": "execute_result"
    }
   ],
   "source": [
    "100*flight_df.isna().sum(axis=0)/len(flight_df)"
   ]
  },
  {
   "cell_type": "code",
   "execution_count": 117,
   "metadata": {},
   "outputs": [
    {
     "name": "stdout",
     "output_type": "stream",
     "text": [
      "previous to drop length 5819079\n"
     ]
    }
   ],
   "source": [
    "print(f\"previous to drop length {len(flight_df)}\")"
   ]
  },
  {
   "cell_type": "code",
   "execution_count": 118,
   "metadata": {},
   "outputs": [],
   "source": [
    "flight_df = flight_df.dropna(axis=0)"
   ]
  },
  {
   "cell_type": "code",
   "execution_count": 119,
   "metadata": {},
   "outputs": [
    {
     "name": "stdout",
     "output_type": "stream",
     "text": [
      "post drop length 5714008\n"
     ]
    }
   ],
   "source": [
    "print(f\"post drop length {len(flight_df)}\")"
   ]
  },
  {
   "attachments": {},
   "cell_type": "markdown",
   "metadata": {},
   "source": [
    "After the dropping of rows the amount of data reduced in the table is around 10%. As we still have roughly 57000 rows, we still can train models that can learn without those entries. "
   ]
  },
  {
   "attachments": {},
   "cell_type": "markdown",
   "metadata": {},
   "source": [
    "## Uniting the Dataset: \n",
    "In order to do this we first need to obtain the longitude and latitude of the airports that are missing in the dataset: "
   ]
  },
  {
   "cell_type": "code",
   "execution_count": 120,
   "metadata": {},
   "outputs": [],
   "source": [
    "missing_spacial_info = airports_df[airports_df['LATITUDE'].isnull() | airports_df['LONGITUDE'].isnull()]"
   ]
  },
  {
   "cell_type": "code",
   "execution_count": 121,
   "metadata": {},
   "outputs": [
    {
     "data": {
      "text/html": [
       "<div>\n",
       "<style scoped>\n",
       "    .dataframe tbody tr th:only-of-type {\n",
       "        vertical-align: middle;\n",
       "    }\n",
       "\n",
       "    .dataframe tbody tr th {\n",
       "        vertical-align: top;\n",
       "    }\n",
       "\n",
       "    .dataframe thead th {\n",
       "        text-align: right;\n",
       "    }\n",
       "</style>\n",
       "<table border=\"1\" class=\"dataframe\">\n",
       "  <thead>\n",
       "    <tr style=\"text-align: right;\">\n",
       "      <th></th>\n",
       "      <th>IATA_CODE</th>\n",
       "      <th>AIRPORT</th>\n",
       "      <th>CITY</th>\n",
       "      <th>STATE</th>\n",
       "      <th>COUNTRY</th>\n",
       "      <th>LATITUDE</th>\n",
       "      <th>LONGITUDE</th>\n",
       "    </tr>\n",
       "  </thead>\n",
       "  <tbody>\n",
       "    <tr>\n",
       "      <th>96</th>\n",
       "      <td>ECP</td>\n",
       "      <td>Northwest Florida Beaches International Airport</td>\n",
       "      <td>Panama City</td>\n",
       "      <td>FL</td>\n",
       "      <td>USA</td>\n",
       "      <td>NaN</td>\n",
       "      <td>NaN</td>\n",
       "    </tr>\n",
       "    <tr>\n",
       "      <th>234</th>\n",
       "      <td>PBG</td>\n",
       "      <td>Plattsburgh International Airport</td>\n",
       "      <td>Plattsburgh</td>\n",
       "      <td>NY</td>\n",
       "      <td>USA</td>\n",
       "      <td>NaN</td>\n",
       "      <td>NaN</td>\n",
       "    </tr>\n",
       "    <tr>\n",
       "      <th>313</th>\n",
       "      <td>UST</td>\n",
       "      <td>Northeast Florida Regional Airport (St. August...</td>\n",
       "      <td>St. Augustine</td>\n",
       "      <td>FL</td>\n",
       "      <td>USA</td>\n",
       "      <td>NaN</td>\n",
       "      <td>NaN</td>\n",
       "    </tr>\n",
       "  </tbody>\n",
       "</table>\n",
       "</div>"
      ],
      "text/plain": [
       "    IATA_CODE                                            AIRPORT  \\\n",
       "96        ECP    Northwest Florida Beaches International Airport   \n",
       "234       PBG                  Plattsburgh International Airport   \n",
       "313       UST  Northeast Florida Regional Airport (St. August...   \n",
       "\n",
       "              CITY STATE COUNTRY  LATITUDE  LONGITUDE  \n",
       "96     Panama City    FL     USA       NaN        NaN  \n",
       "234    Plattsburgh    NY     USA       NaN        NaN  \n",
       "313  St. Augustine    FL     USA       NaN        NaN  "
      ]
     },
     "execution_count": 121,
     "metadata": {},
     "output_type": "execute_result"
    }
   ],
   "source": [
    "missing_spacial_info"
   ]
  },
  {
   "cell_type": "code",
   "execution_count": 122,
   "metadata": {},
   "outputs": [],
   "source": [
    "from geopy.geocoders import Nominatim "
   ]
  },
  {
   "cell_type": "code",
   "execution_count": 123,
   "metadata": {},
   "outputs": [],
   "source": [
    "geolocator = Nominatim(user_agent=\"EDA\")\n",
    "def geocode_airport(row):\n",
    "    if pd.isna(row['AIRPORT']):\n",
    "        raise ValueError(\"There's a row that does not have an airport\")\n",
    "    \n",
    "    location = geolocator.geocode(row['AIRPORT'].split(\"(\")[0])\n",
    "    if location:\n",
    "        return location.latitude, location.longitude"
   ]
  },
  {
   "cell_type": "code",
   "execution_count": 124,
   "metadata": {},
   "outputs": [],
   "source": [
    "latitude_longitude = missing_spacial_info.apply(geocode_airport, axis=1)"
   ]
  },
  {
   "cell_type": "code",
   "execution_count": 125,
   "metadata": {},
   "outputs": [
    {
     "data": {
      "text/plain": [
       "96           (30.35993085, -85.80404564346239)\n",
       "234    (44.651686600000005, -73.4643666977021)\n",
       "313           (29.96107765, -81.3405011298961)\n",
       "dtype: object"
      ]
     },
     "execution_count": 125,
     "metadata": {},
     "output_type": "execute_result"
    }
   ],
   "source": [
    "latitude_longitude"
   ]
  },
  {
   "cell_type": "code",
   "execution_count": 126,
   "metadata": {},
   "outputs": [],
   "source": [
    "airports_df.loc[missing_spacial_info.index, ['LATITUDE', 'LONGITUDE']] = list(latitude_longitude)"
   ]
  },
  {
   "cell_type": "code",
   "execution_count": 127,
   "metadata": {},
   "outputs": [
    {
     "data": {
      "text/plain": [
       "False"
      ]
     },
     "execution_count": 127,
     "metadata": {},
     "output_type": "execute_result"
    }
   ],
   "source": [
    "np.any(flight_df[\"ORIGIN_AIRPORT\"]==14747)"
   ]
  },
  {
   "cell_type": "code",
   "execution_count": 134,
   "metadata": {},
   "outputs": [
    {
     "data": {
      "text/plain": [
       "482878"
      ]
     },
     "execution_count": 134,
     "metadata": {},
     "output_type": "execute_result"
    }
   ],
   "source": [
    "sum([value for key, value in flight_df[\"ORIGIN_AIRPORT\"].value_counts().items() if key.isnumeric()])"
   ]
  },
  {
   "attachments": {},
   "cell_type": "markdown",
   "metadata": {},
   "source": [
    "### Unitind airport information: \n",
    "After fixing the latitude and longitude of the other airports we are going to merge the tables into just one table in order to consider all the available data. "
   ]
  },
  {
   "cell_type": "code",
   "execution_count": 91,
   "metadata": {},
   "outputs": [],
   "source": [
    "flight_df = flight_df.merge(airports_df[[\"IATA_CODE\", \"LATITUDE\", \"LONGITUDE\"]], left_on=\"ORIGIN_AIRPORT\", right_on=\"IATA_CODE\", how=\"left\")\n",
    "flight_df.rename(columns={\"LATITUDE\": \"ORIGIN_AIRPORT_LATITUDE\", \"LONGITUDE\":\"ORIGIN_AIRPORT_LONGITUDE\"}, inplace=True)"
   ]
  },
  {
   "cell_type": "code",
   "execution_count": 92,
   "metadata": {},
   "outputs": [],
   "source": [
    "flight_df = flight_df.merge(airports_df[[\"IATA_CODE\", \"LATITUDE\", \"LONGITUDE\"]], left_on=\"DESTINATION_AIRPORT\", right_on=\"IATA_CODE\", how=\"left\")\n",
    "flight_df.rename(columns={\"LATITUDE\": \"DESTINATION_AIRPORT_LATITUDE\", \"LONGITUDE\":\"DESTINATION_AIRPORT_LONGITUDE\"}, inplace=True)"
   ]
  },
  {
   "cell_type": "code",
   "execution_count": 94,
   "metadata": {},
   "outputs": [],
   "source": [
    "flight_df.drop(['IATA_CODE_x', 'IATA_CODE_y'], axis=1, inplace=True)\n"
   ]
  },
  {
   "cell_type": "code",
   "execution_count": 103,
   "metadata": {},
   "outputs": [
    {
     "data": {
      "text/plain": [
       "ATL      343506\n",
       "ORD      276554\n",
       "DFW      232647\n",
       "DEN      193402\n",
       "LAX      192003\n",
       "          ...  \n",
       "13541        11\n",
       "10165         9\n",
       "14222         9\n",
       "13502         6\n",
       "11503         4\n",
       "Name: ORIGIN_AIRPORT, Length: 628, dtype: int64"
      ]
     },
     "execution_count": 103,
     "metadata": {},
     "output_type": "execute_result"
    }
   ],
   "source": [
    "flight_df[\"ORIGIN_AIRPORT\"].value_counts()"
   ]
  },
  {
   "cell_type": "code",
   "execution_count": 98,
   "metadata": {},
   "outputs": [
    {
     "data": {
      "text/html": [
       "<div>\n",
       "<style scoped>\n",
       "    .dataframe tbody tr th:only-of-type {\n",
       "        vertical-align: middle;\n",
       "    }\n",
       "\n",
       "    .dataframe tbody tr th {\n",
       "        vertical-align: top;\n",
       "    }\n",
       "\n",
       "    .dataframe thead th {\n",
       "        text-align: right;\n",
       "    }\n",
       "</style>\n",
       "<table border=\"1\" class=\"dataframe\">\n",
       "  <thead>\n",
       "    <tr style=\"text-align: right;\">\n",
       "      <th></th>\n",
       "      <th>IATA_CODE</th>\n",
       "      <th>AIRPORT</th>\n",
       "      <th>CITY</th>\n",
       "      <th>STATE</th>\n",
       "      <th>COUNTRY</th>\n",
       "      <th>LATITUDE</th>\n",
       "      <th>LONGITUDE</th>\n",
       "    </tr>\n",
       "  </thead>\n",
       "  <tbody>\n",
       "  </tbody>\n",
       "</table>\n",
       "</div>"
      ],
      "text/plain": [
       "Empty DataFrame\n",
       "Columns: [IATA_CODE, AIRPORT, CITY, STATE, COUNTRY, LATITUDE, LONGITUDE]\n",
       "Index: []"
      ]
     },
     "execution_count": 98,
     "metadata": {},
     "output_type": "execute_result"
    }
   ],
   "source": [
    "airports_df[airports_df[\"IATA_CODE\"]==14747]"
   ]
  },
  {
   "attachments": {},
   "cell_type": "markdown",
   "metadata": {},
   "source": [
    "## Saving Flight data into Data directory: \n",
    "As the data he have till now needs to be generated just once in order to do the EDA. We are going to save this file in order to use it in the EDA.ipynb notebook later. "
   ]
  },
  {
   "cell_type": "code",
   "execution_count": 55,
   "metadata": {},
   "outputs": [],
   "source": [
    "flight_df.to_csv(os.path.join(\"Data\", \"preprocessed.csv\"))"
   ]
  },
  {
   "cell_type": "code",
   "execution_count": null,
   "metadata": {},
   "outputs": [],
   "source": []
  }
 ],
 "metadata": {
  "kernelspec": {
   "display_name": "dataScience",
   "language": "python",
   "name": "python3"
  },
  "language_info": {
   "codemirror_mode": {
    "name": "ipython",
    "version": 3
   },
   "file_extension": ".py",
   "mimetype": "text/x-python",
   "name": "python",
   "nbconvert_exporter": "python",
   "pygments_lexer": "ipython3",
   "version": "3.8.16"
  },
  "orig_nbformat": 4
 },
 "nbformat": 4,
 "nbformat_minor": 2
}
